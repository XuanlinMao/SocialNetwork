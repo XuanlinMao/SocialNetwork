{
 "cells": [
  {
   "cell_type": "code",
   "execution_count": 1,
   "metadata": {},
   "outputs": [],
   "source": [
    "import process\n",
    "import argparse\n",
    "import numpy as np\n",
    "\n",
    "from sklearn.cluster import KMeans\n",
    "from sklearn.preprocessing import normalize\n",
    "\n",
    "import torch\n",
    "import torch.nn as nn\n",
    "import torch.nn.functional as F\n",
    "from torch.nn.parameter import Parameter\n",
    "from torch.optim import Adam\n",
    "\n",
    "import utils\n",
    "from model import GAT\n",
    "from evaluation import eva\n",
    "import copy\n",
    "import process"
   ]
  },
  {
   "cell_type": "code",
   "execution_count": 2,
   "metadata": {},
   "outputs": [],
   "source": [
    "dataset = utils.get_dataset(\"Citeseer\")[0]\n",
    "dataset = utils.data_preprocessing(dataset)"
   ]
  },
  {
   "cell_type": "code",
   "execution_count": 3,
   "metadata": {},
   "outputs": [
    {
     "data": {
      "text/plain": [
       "tensor([[1., 0., 0.,  ..., 0., 0., 0.],\n",
       "        [0., 1., 0.,  ..., 0., 0., 0.],\n",
       "        [0., 0., 1.,  ..., 0., 0., 0.],\n",
       "        ...,\n",
       "        [0., 0., 0.,  ..., 1., 0., 0.],\n",
       "        [0., 0., 0.,  ..., 0., 1., 0.],\n",
       "        [0., 0., 0.,  ..., 0., 0., 1.]])"
      ]
     },
     "execution_count": 3,
     "metadata": {},
     "output_type": "execute_result"
    }
   ],
   "source": [
    "dataset.adj_label"
   ]
  },
  {
   "cell_type": "code",
   "execution_count": 4,
   "metadata": {},
   "outputs": [
    {
     "name": "stdout",
     "output_type": "stream",
     "text": [
      "generating adjacent matrix...\n"
     ]
    },
    {
     "name": "stderr",
     "output_type": "stream",
     "text": [
      "100%|██████████| 9183/9183 [00:00<00:00, 34867.95it/s]\n"
     ]
    },
    {
     "name": "stdout",
     "output_type": "stream",
     "text": [
      "loading data...\n",
      "getting features - 1st step...\n",
      "getting features - 2nd step...\n"
     ]
    },
    {
     "name": "stderr",
     "output_type": "stream",
     "text": [
      "100%|██████████| 19/19 [00:11<00:00,  1.63it/s]\n"
     ]
    },
    {
     "name": "stdout",
     "output_type": "stream",
     "text": [
      "scaling...\n",
      "--------DONE--------\n"
     ]
    }
   ],
   "source": [
    "mydata = process.myDataSet()"
   ]
  },
  {
   "cell_type": "code",
   "execution_count": 7,
   "metadata": {},
   "outputs": [],
   "source": [
    "def pretrain(args,device,dataset):\n",
    "    model = GAT(\n",
    "        num_features=args.input_dim,\n",
    "        hidden_size=args.hidden_size,\n",
    "        embedding_size=args.embedding_size,\n",
    "        alpha=args.alpha,\n",
    "    ).to(device)\n",
    "    print(model)\n",
    "    optimizer = Adam(model.parameters(), lr=args.lr, weight_decay=args.weight_decay)\n",
    "\n",
    "    # data process\n",
    "    adj = dataset.adj.to(device)\n",
    "    adj_label = dataset.adj_label.to(device)\n",
    "    M = process.get_M(adj).to(device)\n",
    "\n",
    "    # data and label\n",
    "    x = torch.Tensor(dataset.x).to(device)\n",
    "    # y = dataset.y.cpu().numpy()\n",
    "\n",
    "    for epoch in range(args.max_epoch):\n",
    "        model.train()\n",
    "        A_pred, z = model(x, adj, M)\n",
    "        loss = F.binary_cross_entropy(A_pred.view(-1), adj_label.view(-1))\n",
    "        optimizer.zero_grad()\n",
    "        loss.backward()\n",
    "        optimizer.step()\n",
    "\n",
    "        # with torch.no_grad():\n",
    "        #     _, z = model(x, adj, M)\n",
    "        #     kmeans = KMeans(n_clusters=args.n_clusters, n_init=20).fit(\n",
    "        #         z.data.cpu().numpy()\n",
    "        #     )\n",
    "        #     acc, nmi, ari, f1 = eva(y, kmeans.labels_, epoch)\n",
    "        if (epoch+1) % 5 == 0:\n",
    "            print('----------epoch = %d----------'%(epoch+1))\n",
    "            torch.save(\n",
    "                model.state_dict(), f\"./pretrain/predaegc_{args.name}_{epoch}.pkl\"\n",
    "            )\n",
    "\n",
    "def myPretrain():\n",
    "    # mydata = process.myDataSet()\n",
    "    args = argparse.Namespace()\n",
    "    args.name = 'MaoXuanlin'\n",
    "    args.input_dim = mydata.x.shape[1]\n",
    "    args.hidden_size = 128\n",
    "    args.embedding_size = 16\n",
    "    args.alpha = 0.2\n",
    "    args.max_epoch = 100\n",
    "    args.lr = 0.001\n",
    "    args.n_cluster = 6\n",
    "    args.weight_decay = 5e-3\n",
    "    args.cuda = torch.cuda.is_available()\n",
    "    print(\"use cuda: {}\".format(args.cuda))\n",
    "    device = torch.device(\"cuda\" if args.cuda else \"cpu\")\n",
    "    print(args)\n",
    "    pretrain(args,device,mydata)\n",
    "    "
   ]
  },
  {
   "cell_type": "code",
   "execution_count": 8,
   "metadata": {},
   "outputs": [
    {
     "name": "stdout",
     "output_type": "stream",
     "text": [
      "use cuda: False\n",
      "Namespace(alpha=0.2, cuda=False, embedding_size=16, hidden_size=128, input_dim=304, lr=0.001, max_epoch=100, n_cluster=6, name='MaoXuanlin', weight_decay=0.005)\n",
      "GAT(\n",
      "  (conv1): GATLayer (304 -> 128)\n",
      "  (conv2): GATLayer (128 -> 16)\n",
      ")\n",
      "----------epoch =\t0----------\n",
      "----------epoch =\t5----------\n",
      "----------epoch =\t10----------\n",
      "----------epoch =\t15----------\n",
      "----------epoch =\t20----------\n",
      "----------epoch =\t25----------\n",
      "----------epoch =\t30----------\n",
      "----------epoch =\t35----------\n",
      "----------epoch =\t40----------\n",
      "----------epoch =\t45----------\n",
      "----------epoch =\t50----------\n",
      "----------epoch =\t55----------\n",
      "----------epoch =\t60----------\n",
      "----------epoch =\t65----------\n",
      "----------epoch =\t70----------\n",
      "----------epoch =\t75----------\n",
      "----------epoch =\t80----------\n",
      "----------epoch =\t85----------\n",
      "----------epoch =\t90----------\n",
      "----------epoch =\t95----------\n"
     ]
    }
   ],
   "source": [
    "myPretrain()"
   ]
  },
  {
   "cell_type": "code",
   "execution_count": 5,
   "metadata": {},
   "outputs": [
    {
     "data": {
      "text/plain": [
       "tensor([[-0.2980, -2.1505, -1.5564,  ..., -0.0228, -0.0250, -0.0290],\n",
       "        [ 0.5931, -1.4245,  0.4911,  ..., -0.0228, -0.0250, -0.0290],\n",
       "        [ 0.5027, -0.2298, -0.5326,  ..., -0.0228, -0.0250, -0.0290],\n",
       "        ...,\n",
       "        [ 0.8150,  1.2486,  0.4911,  ..., -0.0228, -0.0250, -0.0290],\n",
       "        [ 0.5027, -0.1793,  0.4911,  ..., -0.0228, -0.0250, -0.0290],\n",
       "        [-0.4152, -2.5522,  0.4911,  ..., -0.0228, -0.0250, -0.0290]])"
      ]
     },
     "execution_count": 5,
     "metadata": {},
     "output_type": "execute_result"
    }
   ],
   "source": [
    "mydata.x"
   ]
  },
  {
   "cell_type": "code",
   "execution_count": 6,
   "metadata": {},
   "outputs": [
    {
     "data": {
      "text/plain": [
       "tensor([[0., 0., 0.,  ..., 0., 0., 0.],\n",
       "        [0., 0., 0.,  ..., 0., 0., 0.],\n",
       "        [0., 0., 0.,  ..., 0., 0., 0.],\n",
       "        ...,\n",
       "        [0., 0., 0.,  ..., 0., 0., 0.],\n",
       "        [0., 0., 0.,  ..., 0., 0., 0.],\n",
       "        [0., 0., 0.,  ..., 0., 0., 0.]])"
      ]
     },
     "execution_count": 6,
     "metadata": {},
     "output_type": "execute_result"
    }
   ],
   "source": [
    "dataset.x"
   ]
  },
  {
   "cell_type": "code",
   "execution_count": null,
   "metadata": {},
   "outputs": [],
   "source": []
  },
  {
   "cell_type": "code",
   "execution_count": null,
   "metadata": {},
   "outputs": [],
   "source": []
  },
  {
   "cell_type": "code",
   "execution_count": null,
   "metadata": {},
   "outputs": [],
   "source": []
  },
  {
   "cell_type": "code",
   "execution_count": null,
   "metadata": {},
   "outputs": [],
   "source": []
  },
  {
   "cell_type": "code",
   "execution_count": null,
   "metadata": {},
   "outputs": [],
   "source": []
  },
  {
   "cell_type": "code",
   "execution_count": null,
   "metadata": {},
   "outputs": [],
   "source": []
  }
 ],
 "metadata": {
  "kernelspec": {
   "display_name": "myProject",
   "language": "python",
   "name": "python3"
  },
  "language_info": {
   "codemirror_mode": {
    "name": "ipython",
    "version": 3
   },
   "file_extension": ".py",
   "mimetype": "text/x-python",
   "name": "python",
   "nbconvert_exporter": "python",
   "pygments_lexer": "ipython3",
   "version": "3.8.12"
  }
 },
 "nbformat": 4,
 "nbformat_minor": 2
}
